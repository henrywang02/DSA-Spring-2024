{
 "cells": [
  {
   "cell_type": "markdown",
   "metadata": {},
   "source": [
    "# Graph demo 1 - Undirected graph\n",
    "- Graph will be formed by inserting values vertrices into the adjancency list. This will be an undirected graph where edges between vertrices can be directional (src <--> dest). Let's create a graph like in the figure below."
   ]
  },
  {
   "cell_type": "code",
   "execution_count": 7,
   "metadata": {},
   "outputs": [
    {
     "name": "stdout",
     "output_type": "stream",
     "text": [
      "0 -> [1, 0, 4, 0]\n",
      "1 -> [2, 1, 3, 1, 4, 1]\n",
      "2 -> [4, 2]\n",
      "3 -> [4, 3]\n",
      "4 -> []\n",
      "5 -> [4, 5, 1, 5]\n"
     ]
    }
   ],
   "source": [
    "class Graph():\n",
    "    def __init__(self , vertices):\n",
    "        self.vertrices = vertices \n",
    "        self.adjList = []\n",
    "\n",
    "    def addVertex(self, v):\n",
    "        add_v = [v]\n",
    "        self.adjList.append(add_v)\n",
    "\n",
    "    def addEdge(self, v , w):\n",
    "        self.adjList[v].append(w)\n",
    "        self.adjList[v].append(v)\n",
    "\n",
    "    def printGraph(self):\n",
    "        for i in self.adjList:\n",
    "            print(str(i[0]) + ' -> ' + str(i[1:]))\n",
    "\n",
    "\n",
    "#Test\n",
    "\n",
    "g = Graph(6)\n",
    "vertices = [0, 1, 2, 3, 4, 5]\n",
    "\n",
    "for i in vertices:\n",
    "    g.addVertex(i)\n",
    "\n",
    "g.addEdge(0, 1)\n",
    "g.addEdge(0, 4)\n",
    "g.addEdge(1, 2)\n",
    "g.addEdge(1, 3)\n",
    "g.addEdge(1, 4)\n",
    "g.addEdge(2, 4)\n",
    "g.addEdge(3, 4)\n",
    "g.addEdge(5, 4)\n",
    "g.addEdge(5, 1)\n",
    "\n",
    "g.printGraph()"
   ]
  }
 ],
 "metadata": {
  "kernelspec": {
   "display_name": "Python 3",
   "language": "python",
   "name": "python3"
  },
  "language_info": {
   "codemirror_mode": {
    "name": "ipython",
    "version": 3
   },
   "file_extension": ".py",
   "mimetype": "text/x-python",
   "name": "python",
   "nbconvert_exporter": "python",
   "pygments_lexer": "ipython3",
   "version": "3.10.6"
  }
 },
 "nbformat": 4,
 "nbformat_minor": 2
}
