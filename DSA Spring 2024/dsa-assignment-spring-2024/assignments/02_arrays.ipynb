{
 "cells": [
  {
   "cell_type": "markdown",
   "id": "7a59eeb0",
   "metadata": {
    "lines_to_next_cell": 2
   },
   "source": [
    "# Assignment 2\n",
    "\n",
    "These assignments are related to **arrays**.\n",
    "* Note that the data structure **Array** is implemented in Python as a built-in list type named `list`.\n",
    "* Read the related course material before doing the assignments from the [Arrays](https://ttc1050.pages.labranet.jamk.fi/ds_alg_material/materials/02_arrays/).\n",
    "\n",
    "General notes of assignments:\n",
    "* NOTE! In general, after the implementation of the function, all assignments have a test program for the function.\n",
    "* NOTE! Add your code in the assignments only after the TODO lines."
   ]
  },
  {
   "cell_type": "markdown",
   "id": "1d84d6ad",
   "metadata": {},
   "source": [
    "## Assignment 2.1 (1 p)\n",
    "\n",
    "In this assignment, the implementation of one algorithm is provided in `my_func()` function.\n",
    "You should not modify that function in this assignment.\n",
    "\n",
    "Based on the following implementation, please answer the following questions.\n",
    "* Find out what this algorithm does and what does it return.\n",
    "* You should also describe the steps of the algorithm.\n",
    "\n",
    "Note! The Code has already been implemented and please don't edit it."
   ]
  },
  {
   "cell_type": "code",
   "execution_count": 6,
   "id": "db260b97",
   "metadata": {
    "ExecuteTime": {
     "end_time": "2024-01-05T13:47:10.500721900Z",
     "start_time": "2024-01-05T13:47:10.449281300Z"
    }
   },
   "outputs": [
    {
     "name": "stdout",
     "output_type": "stream",
     "text": [
      "[73, 69, 79, None, 75]\n"
     ]
    }
   ],
   "source": [
    "message = [79, 73, 75, 69, 65]\n",
    "some_list = [1, 3, 0, 5, 2]\n",
    "\n",
    "def my_func(message, arg_list):\n",
    "    result = [None] * len(arg_list)\n",
    "    for k in range(len(arg_list)):\n",
    "        try:\n",
    "            tmp = arg_list[k]\n",
    "            result[k] = message[tmp]\n",
    "        except IndexError as exp:\n",
    "            result[k] = None\n",
    "\n",
    "    return result\n",
    "\n",
    "# Test\n",
    "\n",
    "new_list = my_func(message, some_list)\n",
    "print(new_list)"
   ]
  },
  {
   "cell_type": "markdown",
   "id": "0589a66e",
   "metadata": {
    "lines_to_next_cell": 2
   },
   "source": [
    "\n",
    "### Your Response:\n",
    "\n",
    "\n",
    "* <font color='red'>TODO: Write and describe what algorithm in `my_func()` does and what does it return.</font>\n",
    "* <font color='red'>TODO: You should also describe the steps of the algorithm.</font>\n"
   ]
  },
  {
   "cell_type": "markdown",
   "id": "524094f5",
   "metadata": {},
   "source": [
    "- Define the function named my function taking 2 arguments: `message` and `arg_list`. Then, `result = [None] * len(arg_list)` is to create a list called `result` with the same length as `arg_list`. Then, iterating over each index 'k' in the range of the length of `arg_lst`. `tmp = arg_list[k]` is to retrieve the value at index `k` from `arg_lst` and assign it to `tmp`. After that, tries to access the value the value at index `tmp` in `message` and assigns it to the corresponding index in `result`. If an `indexError` occurs, it catches the exception and assign `None` to the corresponding index in `result`.\n",
    "- Now, I will explain how the loop function: \n",
    "   + k will varies from 0 to 4 in `range(len(arg_lst))`. When k = 0 => tmp = arg_lst[0].Then, tmp = 1. Repalacing tmp = 1 into `message[tmp]` => we have `result[k] = 73`. So the first index of result will be 73. Then, Continue the loop we also have `73, 69, 79, None, 75`. The reason why it shows `None` in the 3 index of `result` is that at k k = 3 => tmp = 5. Then, it has `result[k] = message[5]`. In result maximum index is 4, so it will show `None`. Because we realized the error will happen. So we put `Try` and `Except` to avoid it."
   ]
  },
  {
   "cell_type": "markdown",
   "id": "a821d97b",
   "metadata": {},
   "source": [
    "## Assignment 2.2 (1 p)\n",
    "\n",
    "Create a function called `sum_arrays()` that iterates through arrays `dataset1` and `dataset2` and then sums all array elements with the same index.\n",
    "The function returns the `sum_arr` list.\n",
    "\n",
    "* Implement summation of arrays in two different ways by using `for` or `while` loops.\n",
    "\n",
    "Note! The test program has already been implemented, so please don't edit it."
   ]
  },
  {
   "cell_type": "code",
   "execution_count": 22,
   "id": "432f66e0",
   "metadata": {},
   "outputs": [
    {
     "ename": "AssertionError",
     "evalue": "",
     "output_type": "error",
     "traceback": [
      "\u001b[1;31m---------------------------------------------------------------------------\u001b[0m",
      "\u001b[1;31mAssertionError\u001b[0m                            Traceback (most recent call last)",
      "Cell \u001b[1;32mIn[22], line 21\u001b[0m\n\u001b[0;32m     18\u001b[0m res_sum1 \u001b[38;5;241m=\u001b[39m sum_arrays(dataset1, dataset2)\n\u001b[0;32m     19\u001b[0m res_sum2 \u001b[38;5;241m=\u001b[39m sum_arrays_2(dataset1, dataset2)\n\u001b[1;32m---> 21\u001b[0m \u001b[38;5;28;01massert\u001b[39;00m res_sum1 \u001b[38;5;241m==\u001b[39m correct_answer_02_02\n\u001b[0;32m     22\u001b[0m \u001b[38;5;28;01massert\u001b[39;00m res_sum2 \u001b[38;5;241m==\u001b[39m correct_answer_02_02\n",
      "\u001b[1;31mAssertionError\u001b[0m: "
     ]
    }
   ],
   "source": [
    "correct_answer_02_02 = [74, 16, 54, 77, 22, 22, 4, 19, 13, 36]\n",
    "\n",
    "dataset1 = [12, 3, 4, 61, 11, 2, 1, 9, 10, 8]\n",
    "dataset2 = [62, 13, 50, 16, 11, 20, 3, 10, 3, 28]\n",
    "\n",
    "def sum_arrays(a, b):\n",
    "    sum_arr = []\n",
    "    # TODO: 1st Implementation with for loop\n",
    "    return sum_arr\n",
    "\n",
    "def sum_arrays_2(a, b):\n",
    "    sum_arr = []\n",
    "    # TODO: 2nd Implementation with while loop\n",
    "    return sum_arr\n",
    "\n",
    "\n",
    "# Test\n",
    "res_sum1 = sum_arrays(dataset1, dataset2)\n",
    "res_sum2 = sum_arrays_2(dataset1, dataset2)\n",
    "\n",
    "assert res_sum1 == correct_answer_02_02\n",
    "assert res_sum2 == correct_answer_02_02"
   ]
  },
  {
   "cell_type": "code",
   "execution_count": 21,
   "id": "24b1eb74",
   "metadata": {
    "ExecuteTime": {
     "end_time": "2024-01-05T13:47:12.392101600Z",
     "start_time": "2024-01-05T13:47:10.481703200Z"
    }
   },
   "outputs": [
    {
     "name": "stdout",
     "output_type": "stream",
     "text": [
      "[74, 16, 54, 77, 22, 22, 4, 19, 13, 36]\n",
      "[74, 16, 54, 77, 22, 22, 4, 19, 13, 36]\n"
     ]
    }
   ],
   "source": [
    "correct_answer_02_02 = [74, 16, 54, 77, 22, 22, 4, 19, 13, 36]\n",
    "\n",
    "dataset1 = [12, 3, 4, 61, 11, 2, 1, 9, 10, 8]\n",
    "dataset2 = [62, 13, 50, 16, 11, 20, 3, 10, 3, 28]\n",
    "\n",
    "def sum_arrays(a, b):\n",
    "    sum_arr1 = []\n",
    "    # TODO: 1st Implementation with for loop\n",
    "    for i in range(min(len(a), len(b))):\n",
    "        # Sum elements with the same index and append the results to sum_arr\n",
    "        sum_arr1.append(a[i] + b[i])\n",
    "\n",
    "    return sum_arr1\n",
    "\n",
    "def sum_arrays_2(a, b):\n",
    "    sum_arr2 = []\n",
    "\n",
    "    # Initialize index for iteration\n",
    "    index = 0\n",
    "\n",
    "    # TODO: 2nd Implementation with while loop\n",
    "    while index < min(len(a), len(b)):\n",
    "        # Sum elements with the same index and append the result to sum_arr\n",
    "        sum_arr2.append(a[index] + b[index])\n",
    "        # Move to the next index\n",
    "        index += 1\n",
    "\n",
    "    return sum_arr2\n",
    "\n",
    "\n",
    "# Test\n",
    "res_sum1 = sum_arrays(dataset1, dataset2)\n",
    "res_sum2 = sum_arrays_2(dataset1, dataset2)\n",
    "\n",
    "assert res_sum1 == correct_answer_02_02\n",
    "assert res_sum2 == correct_answer_02_02\n",
    "\n",
    "print(res_sum1)\n",
    "print(res_sum2)\n",
    "\n",
    "\n"
   ]
  },
  {
   "cell_type": "markdown",
   "id": "a856605e",
   "metadata": {},
   "source": [
    "\n",
    "## Assignment 2.3 (1 p)\n",
    "\n",
    "Implement a function `share_numbers()`, that splits `dataset` array into arrays `even` and `odd`,\n",
    "whose content is the following.\n",
    "* Array `even` will include only even numbers.\n",
    "* Array `odd` will include only odd numbers.\n",
    "\n",
    "Sort the numbers in this function from smallest to largest in both arrays before adding to a returned list `[even, odd]`.\n",
    "\n",
    "Note! The test program has already been implemented, so please don't edit it."
   ]
  },
  {
   "cell_type": "code",
   "execution_count": 24,
   "id": "327626a1",
   "metadata": {},
   "outputs": [
    {
     "name": "stdout",
     "output_type": "stream",
     "text": [
      "[]\n"
     ]
    },
    {
     "ename": "AssertionError",
     "evalue": "",
     "output_type": "error",
     "traceback": [
      "\u001b[1;31m---------------------------------------------------------------------------\u001b[0m",
      "\u001b[1;31mAssertionError\u001b[0m                            Traceback (most recent call last)",
      "Cell \u001b[1;32mIn[24], line 19\u001b[0m\n\u001b[0;32m     16\u001b[0m even_odd \u001b[38;5;241m=\u001b[39m share_numbers(dataset)\n\u001b[0;32m     17\u001b[0m \u001b[38;5;28mprint\u001b[39m(even_odd)\n\u001b[1;32m---> 19\u001b[0m \u001b[38;5;28;01massert\u001b[39;00m even_odd \u001b[38;5;241m==\u001b[39m correct_answer_02_03\n",
      "\u001b[1;31mAssertionError\u001b[0m: "
     ]
    }
   ],
   "source": [
    "correct_answer_02_03 = [[2, 4, 6, 8, 10, 12], [1, 3, 9, 11]]\n",
    "\n",
    "dataset = [12, 3, 4, 6, 11, 2, 1, 9, 10, 8]\n",
    "\n",
    "\n",
    "def share_numbers(a):\n",
    "    even = []\n",
    "    odd = []\n",
    "    # TODO: Split all numbers in to even and odd arrays.\n",
    "    # TODO: Sort the numbers from smallest to largest in both lists before adding lists.\n",
    "    # TODO: Finally return the list with the format: return [even, odd].\n",
    "    return []\n",
    "\n",
    "\n",
    "# Test\n",
    "even_odd = share_numbers(dataset)\n",
    "print(even_odd)\n",
    "\n",
    "assert even_odd == correct_answer_02_03"
   ]
  },
  {
   "cell_type": "code",
   "execution_count": 23,
   "id": "a9f4933a",
   "metadata": {
    "ExecuteTime": {
     "end_time": "2024-01-05T13:59:41.953798300Z",
     "start_time": "2024-01-05T13:59:41.889730400Z"
    },
    "lines_to_next_cell": 2
   },
   "outputs": [
    {
     "name": "stdout",
     "output_type": "stream",
     "text": [
      "[[2, 4, 6, 8, 10, 12], [1, 3, 9, 11]]\n"
     ]
    }
   ],
   "source": [
    "correct_answer_02_03 = [[2, 4, 6, 8, 10, 12], [1, 3, 9, 11]]\n",
    "\n",
    "dataset = [12, 3, 4, 6, 11, 2, 1, 9, 10, 8]\n",
    "\n",
    "\n",
    "def share_numbers(a):\n",
    "    even = []\n",
    "    odd = []\n",
    "\n",
    "    # Iterate through the data set\n",
    "    index = 0 \n",
    "    while index < len(dataset):\n",
    "         # TODO: Split all numbers in to even and odd arrays.\n",
    "        if dataset[index] % 2 == 0: # check if the number is even\n",
    "            even.append(dataset[index])\n",
    "        else: \n",
    "            odd.append(dataset[index])\n",
    "        index += 1\n",
    "        \n",
    "    # TODO: Sort the numbers from smallest to largest in both lists before adding lists.\n",
    "        \n",
    "    even.sort()\n",
    "    odd.sort()\n",
    "\n",
    "    # TODO: Finally return the list with the format: return [even, odd].\n",
    "    return [even, odd]\n",
    "\n",
    "\n",
    "# Test\n",
    "even_odd = share_numbers(dataset)\n",
    "print(even_odd)\n",
    "\n",
    "assert even_odd == correct_answer_02_03"
   ]
  },
  {
   "cell_type": "markdown",
   "id": "7edbdcd4",
   "metadata": {},
   "source": [
    "## Assignment 2.4 (1 p)\n",
    "\n",
    "Create a search function called `matrix_search()` for the input **matrix**, which is a _two-dimensional list_ (_2D_),\n",
    "that is given the value of the _searchable element_ as a second argument.\n",
    "\n",
    "* Function should return `True` if the searchable element was found from the matrix.\n",
    "* Otherwise it returns `False`.\n",
    "\n",
    "Note! The test program has already been implemented, so please don't edit it."
   ]
  },
  {
   "cell_type": "code",
   "execution_count": null,
   "id": "c8a7d521",
   "metadata": {},
   "outputs": [],
   "source": [
    "correct_answer_02_04 = [True, False, True]\n",
    "\n",
    "my_matrix = [\n",
    "    [10, 11, 232],\n",
    "    [407, 15, 62],\n",
    "    [18, 29, 100]\n",
    "]\n",
    "\n",
    "def matrix_search(matrix, n):\n",
    "    # TODO: return True if the searchable element n was found from the matrix otherwise False.\n",
    "    return None\n",
    "\n",
    "\n",
    "# Test\n",
    "search_result1 = matrix_search(my_matrix, 29)\n",
    "search_result2 = matrix_search(my_matrix, 27)\n",
    "search_result3 = matrix_search(my_matrix, 232)\n",
    "print(search_result1, search_result2, search_result3)\n",
    "\n",
    "assert [search_result1, search_result2, search_result3] == correct_answer_02_04"
   ]
  },
  {
   "cell_type": "code",
   "execution_count": 26,
   "id": "74d75869",
   "metadata": {
    "ExecuteTime": {
     "end_time": "2024-01-05T13:59:44.593888100Z",
     "start_time": "2024-01-05T13:59:44.561012900Z"
    },
    "lines_to_next_cell": 2
   },
   "outputs": [
    {
     "name": "stdout",
     "output_type": "stream",
     "text": [
      "True False True\n"
     ]
    }
   ],
   "source": [
    "correct_answer_02_04 = [True, False, True]\n",
    "\n",
    "my_matrix = [\n",
    "    [10, 11, 232],\n",
    "    [407, 15, 62],\n",
    "    [18, 29, 100]\n",
    "]\n",
    "\n",
    "def matrix_search(matrix, n):\n",
    "    # TODO: return True if the searchable element n was found from the matrix otherwise False.\n",
    "    for row in matrix:\n",
    "        if n in row:\n",
    "            return True\n",
    "    return False\n",
    "\n",
    "\n",
    "# Test\n",
    "search_result1 = matrix_search(my_matrix, 29)\n",
    "search_result2 = matrix_search(my_matrix, 27)\n",
    "search_result3 = matrix_search(my_matrix, 232)\n",
    "print(search_result1, search_result2, search_result3)\n",
    "\n",
    "assert [search_result1, search_result2, search_result3] == correct_answer_02_04"
   ]
  }
 ],
 "metadata": {
  "jupytext": {
   "cell_metadata_filter": "-all",
   "main_language": "python",
   "notebook_metadata_filter": "-all"
  },
  "kernelspec": {
   "display_name": "Python 3 (ipykernel)",
   "language": "python",
   "name": "python3"
  },
  "language_info": {
   "codemirror_mode": {
    "name": "ipython",
    "version": 3
   },
   "file_extension": ".py",
   "mimetype": "text/x-python",
   "name": "python",
   "nbconvert_exporter": "python",
   "pygments_lexer": "ipython3",
   "version": "3.10.6"
  }
 },
 "nbformat": 4,
 "nbformat_minor": 5
}
